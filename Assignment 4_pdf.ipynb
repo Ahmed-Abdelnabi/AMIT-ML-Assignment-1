{
 "cells": [
  {
   "cell_type": "markdown",
   "id": "74591764",
   "metadata": {},
   "source": [
    "### Task 1 :Write a Python program to create a calculator class. Include methods for basic arithmetic operations "
   ]
  },
  {
   "cell_type": "code",
   "execution_count": 24,
   "id": "794e9457",
   "metadata": {},
   "outputs": [],
   "source": [
    "class Calc():\n",
    "    def add(n1,n2):\n",
    "        return n1 + n2\n",
    "    def subtract(n1,n2):\n",
    "        return n1 - n2\n",
    "    def multiply(n1,n2):\n",
    "        return n1 * n2\n",
    "    def divide(n1,n2):\n",
    "        if n2 != 0:\n",
    "            return n1 / n2\n",
    "        else:\n",
    "            return \"Can't divide by Zero\""
   ]
  },
  {
   "cell_type": "code",
   "execution_count": 25,
   "id": "dbca5f88",
   "metadata": {},
   "outputs": [
    {
     "name": "stdout",
     "output_type": "stream",
     "text": [
      "3\n",
      "6\n",
      "12\n",
      "2.0\n"
     ]
    }
   ],
   "source": [
    "print(Calc.add(1,2))\n",
    "\n",
    "print(Calc.subtract(8,2))\n",
    "\n",
    "print(Calc.multiply(2,6))\n",
    "\n",
    "print(Calc.divide(10,5))"
   ]
  },
  {
   "cell_type": "markdown",
   "id": "6385a524",
   "metadata": {},
   "source": [
    "### Task 2: Rectangle class:"
   ]
  },
  {
   "cell_type": "markdown",
   "id": "cd2f51b8",
   "metadata": {},
   "source": [
    "#### 1. Write a Rectangle class in Python language, allowing you to build a rectangle with length and width attributes\n",
    "\n",
    "#### 2. Create a Perimeter() method to calculate the perimeter of the rectangle and a Area() method to calculate the area of the rectangle.  \n",
    "\n",
    "#### 3. Create a method display() that display the length, width, perimeter and area of an object created using an instantiation on rectangle class.\n",
    "\n",
    "#### 4. Create a Parallelepipede child class inheriting from the Rectangle class and with a height attribute and another Volume() method to calculate the volume of the Parallelepiped."
   ]
  },
  {
   "cell_type": "code",
   "execution_count": 69,
   "id": "3029b076",
   "metadata": {},
   "outputs": [],
   "source": [
    "class Rectangle():\n",
    "    def __init__(self,length,width):\n",
    "        self.length = length\n",
    "        self.width = width\n",
    "    def perimeter(self):\n",
    "        return 2*(self.length+self.width)\n",
    "    def area(self):\n",
    "        return self.length * self.width\n",
    "    def display(self):\n",
    "        print(\"The rectangle length =\", self.length)\n",
    "        print(\"The rectangle width =\", self.width)\n",
    "        print(\"The rectangle perimeter =\", self.perimeter())\n",
    "        print(\"The rectangle area =\", self.area())\n",
    "        \n",
    "class Parallelepiped(Rectangle):\n",
    "    def __init__(self,length, width, height):\n",
    "        super().__init__(length, width)\n",
    "        self.height = height\n",
    "        \n",
    "    def volume(self):\n",
    "        return self.area() * self.height\n"
   ]
  },
  {
   "cell_type": "code",
   "execution_count": 70,
   "id": "1e1f6ddb",
   "metadata": {},
   "outputs": [
    {
     "name": "stdout",
     "output_type": "stream",
     "text": [
      "10\n",
      "6\n",
      "The rectangle length = 2\n",
      "The rectangle width = 3\n",
      "The rectangle perimeter = 10\n",
      "The rectangle area = 6\n"
     ]
    }
   ],
   "source": [
    "rect1 = Rectangle(2,3)\n",
    "print(rect1.perimeter())\n",
    "print(rect1.area())\n",
    "rect1.display()"
   ]
  },
  {
   "cell_type": "code",
   "execution_count": 76,
   "id": "9333b925",
   "metadata": {},
   "outputs": [
    {
     "data": {
      "text/plain": [
       "30"
      ]
     },
     "execution_count": 76,
     "metadata": {},
     "output_type": "execute_result"
    }
   ],
   "source": [
    "p_piped = Parallelepiped(2,3,5)\n",
    "p_piped.volume()"
   ]
  },
  {
   "cell_type": "markdown",
   "id": "882ecb6c",
   "metadata": {},
   "source": [
    "### Task 3: Person class and child Student class \n",
    " ### Create a Python class Person with attributes: name and age of type string.  "
   ]
  },
  {
   "cell_type": "markdown",
   "id": "4e8ecfd2",
   "metadata": {},
   "source": [
    "#### 1. Create a display() method that displays the name and age of an object created via the Person class.  \n",
    "\n",
    "#### 2. Create a child class Student which inherits from the Person class and which also has a section attribute.  \n",
    "\n",
    "#### 3. Create a method displayStudent() that displays the name, age and section of an object created via the Student class.  \n",
    " \n",
    "#### 4. Create a student object via an instantiation on the Student class and then test the displayStudent method."
   ]
  },
  {
   "cell_type": "code",
   "execution_count": 99,
   "id": "6b7cdd9d",
   "metadata": {},
   "outputs": [],
   "source": [
    "class Person():\n",
    "    def __init__(self, name, age):\n",
    "        self.name = str(name)\n",
    "        self.age = str(age)\n",
    "        \n",
    "    def display(self):\n",
    "        print(\"Name:\",self.name,\" / Age:\",self.age)\n",
    "        \n",
    "class Student(Person):\n",
    "    def __init__(self,name,age,section):\n",
    "        self.section = str(section)\n",
    "        super().__init__(name,age)\n",
    "        \n",
    "    def display_student(self):\n",
    "        print(\"Name:\",self.name,\" / Age:\",self.age,\" / Section:\",self.section)\n",
    "    "
   ]
  },
  {
   "cell_type": "code",
   "execution_count": 100,
   "id": "adbe9c18",
   "metadata": {},
   "outputs": [],
   "source": [
    "a1 = Person('Ahmed',29)"
   ]
  },
  {
   "cell_type": "code",
   "execution_count": 101,
   "id": "34b692bc",
   "metadata": {},
   "outputs": [
    {
     "name": "stdout",
     "output_type": "stream",
     "text": [
      "Name: Ahmed  / Age: 29\n"
     ]
    }
   ],
   "source": [
    "a1.display()"
   ]
  },
  {
   "cell_type": "code",
   "execution_count": 102,
   "id": "1f84b959",
   "metadata": {},
   "outputs": [],
   "source": [
    "a2 = Student('Ali',24,4)"
   ]
  },
  {
   "cell_type": "code",
   "execution_count": 98,
   "id": "eb715939",
   "metadata": {},
   "outputs": [
    {
     "name": "stdout",
     "output_type": "stream",
     "text": [
      "Name: Ali  / Age: 24\n"
     ]
    }
   ],
   "source": [
    "a2.display()"
   ]
  },
  {
   "cell_type": "code",
   "execution_count": 103,
   "id": "24ed4c3b",
   "metadata": {},
   "outputs": [
    {
     "name": "stdout",
     "output_type": "stream",
     "text": [
      "Name: Ali  / Age: 24  / Section: 4\n"
     ]
    }
   ],
   "source": [
    "a2.display_student()"
   ]
  }
 ],
 "metadata": {
  "kernelspec": {
   "display_name": "Python 3",
   "language": "python",
   "name": "python3"
  },
  "language_info": {
   "codemirror_mode": {
    "name": "ipython",
    "version": 3
   },
   "file_extension": ".py",
   "mimetype": "text/x-python",
   "name": "python",
   "nbconvert_exporter": "python",
   "pygments_lexer": "ipython3",
   "version": "3.8.8"
  }
 },
 "nbformat": 4,
 "nbformat_minor": 5
}
