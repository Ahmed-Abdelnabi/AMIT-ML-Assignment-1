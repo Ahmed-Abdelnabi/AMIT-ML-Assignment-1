{
 "cells": [
  {
   "cell_type": "markdown",
   "id": "2d1daebf",
   "metadata": {},
   "source": [
    "# Task\n",
    "- apply Dot-product Multiplication"
   ]
  },
  {
   "cell_type": "code",
   "execution_count": 1,
   "id": "26ac26e5",
   "metadata": {},
   "outputs": [],
   "source": [
    "import numpy as np"
   ]
  },
  {
   "cell_type": "code",
   "execution_count": 2,
   "id": "e63fde4b",
   "metadata": {},
   "outputs": [],
   "source": [
    "def vector_dot(v1,v2):\n",
    "    assert len(v1) == len(v2), \"Vectors must be the same size\"\n",
    "    \n",
    "    scalar_sum = sum([a*b for a,b in zip(v1,v2)])\n",
    "    return scalar_sum"
   ]
  },
  {
   "cell_type": "code",
   "execution_count": 3,
   "id": "a51e536d",
   "metadata": {},
   "outputs": [],
   "source": [
    "def get_vec_list(mat1,mat2):\n",
    "    vec1_list = [mat1[r1] for r1 in range(len(mat1))]\n",
    "    vec2_list = [[mat2[r][c] for r in range(len(mat2))] for c in range(len(mat2[0]))]\n",
    "    \n",
    "    return vec1_list,vec2_list"
   ]
  },
  {
   "cell_type": "code",
   "execution_count": 4,
   "id": "fb9a980a",
   "metadata": {},
   "outputs": [],
   "source": [
    "def matrix_dot(m1,m2):\n",
    "    assert len(m1[0]) == len(m2), \"Number of columns of 1st matrix must equal number of rows of second matrix\"\n",
    "    \n",
    "    vec1_list,vec2_list = get_vec_list(m1,m2)   \n",
    "    \n",
    "    result = [[vector_dot(v1,v2) for v2 in vec2_list] for v1 in vec1_list]\n",
    "    \n",
    "    return result"
   ]
  },
  {
   "cell_type": "markdown",
   "id": "a113c8d5",
   "metadata": {},
   "source": [
    "### Example 1"
   ]
  },
  {
   "cell_type": "code",
   "execution_count": 5,
   "id": "c641d79f",
   "metadata": {},
   "outputs": [
    {
     "data": {
      "text/plain": [
       "[[7, 29, 16], [14, 44, 42]]"
      ]
     },
     "execution_count": 5,
     "metadata": {},
     "output_type": "execute_result"
    }
   ],
   "source": [
    "mat1 = [[2,1,3],\n",
    "       [2,4,4]]\n",
    "\n",
    "mat2 = [[1,4,1],\n",
    "       [2,3,8],\n",
    "       [1,6,2]]\n",
    "\n",
    "matrix_dot(mat1,mat2)"
   ]
  },
  {
   "cell_type": "code",
   "execution_count": 6,
   "id": "4b6437e3",
   "metadata": {},
   "outputs": [
    {
     "name": "stdout",
     "output_type": "stream",
     "text": [
      "[[ 7 29 16]\n",
      " [14 44 42]]\n"
     ]
    }
   ],
   "source": [
    "# Check result with result from numpy\n",
    "m1 = np.array(mat1)\n",
    "m2 = np.array(mat2)\n",
    "\n",
    "print(m1.dot(m2))"
   ]
  },
  {
   "cell_type": "markdown",
   "id": "63fa35f0",
   "metadata": {},
   "source": [
    "### Example 2"
   ]
  },
  {
   "cell_type": "code",
   "execution_count": 7,
   "id": "76b2ef49",
   "metadata": {},
   "outputs": [
    {
     "data": {
      "text/plain": [
       "[[6, 9], [10, 14]]"
      ]
     },
     "execution_count": 7,
     "metadata": {},
     "output_type": "execute_result"
    }
   ],
   "source": [
    "mat1 = [[1,2],\n",
    "       [2,3]]\n",
    "\n",
    "mat2 = [[2,1],\n",
    "       [2,4]]\n",
    "\n",
    "matrix_dot(mat1,mat2)"
   ]
  },
  {
   "cell_type": "code",
   "execution_count": 8,
   "id": "41fb6208",
   "metadata": {},
   "outputs": [
    {
     "name": "stdout",
     "output_type": "stream",
     "text": [
      "[[ 6  9]\n",
      " [10 14]]\n"
     ]
    }
   ],
   "source": [
    "# Check result with result from numpy\n",
    "m1 = np.array(mat1)\n",
    "m2 = np.array(mat2)\n",
    "\n",
    "print(m1.dot(m2))"
   ]
  }
 ],
 "metadata": {
  "kernelspec": {
   "display_name": "Python 3",
   "language": "python",
   "name": "python3"
  },
  "language_info": {
   "codemirror_mode": {
    "name": "ipython",
    "version": 3
   },
   "file_extension": ".py",
   "mimetype": "text/x-python",
   "name": "python",
   "nbconvert_exporter": "python",
   "pygments_lexer": "ipython3",
   "version": "3.8.8"
  }
 },
 "nbformat": 4,
 "nbformat_minor": 5
}
