{
 "cells": [
  {
   "cell_type": "markdown",
   "id": "fcf19624",
   "metadata": {},
   "source": [
    "### 1. Write a Python program to add an item to a tuple. "
   ]
  },
  {
   "cell_type": "code",
   "execution_count": 7,
   "id": "c5d5ac84",
   "metadata": {},
   "outputs": [
    {
     "name": "stdout",
     "output_type": "stream",
     "text": [
      "(1, 3, 5, 99)\n"
     ]
    }
   ],
   "source": [
    "tuple1 = (1,3,5)\n",
    "lst = list(tuple1)\n",
    "lst.append(99)\n",
    "print(tuple(lst))"
   ]
  },
  {
   "cell_type": "markdown",
   "id": "bbb48e3a",
   "metadata": {},
   "source": [
    "### 2. Write a Python program to sum all the items in a list. "
   ]
  },
  {
   "cell_type": "code",
   "execution_count": 9,
   "id": "5109d3c3",
   "metadata": {},
   "outputs": [
    {
     "data": {
      "text/plain": [
       "10"
      ]
     },
     "execution_count": 9,
     "metadata": {},
     "output_type": "execute_result"
    }
   ],
   "source": [
    "lst = [1, 3, 5, 1]\n",
    "sum(lst)"
   ]
  },
  {
   "cell_type": "markdown",
   "id": "0ab2ffcb",
   "metadata": {},
   "source": [
    "### 3. Write a Python program to multiply all the items in a list. "
   ]
  },
  {
   "cell_type": "code",
   "execution_count": 11,
   "id": "a156c069",
   "metadata": {},
   "outputs": [
    {
     "name": "stdout",
     "output_type": "stream",
     "text": [
      "30\n"
     ]
    }
   ],
   "source": [
    "lst = [1, 3, 5, 2]\n",
    "product = 1\n",
    "for i in lst:\n",
    "    product = product * i\n",
    "\n",
    "print(product)"
   ]
  },
  {
   "cell_type": "markdown",
   "id": "9f698c61",
   "metadata": {},
   "source": [
    "### 4. Write a Python program to get the smallest number from a list. "
   ]
  },
  {
   "cell_type": "code",
   "execution_count": 16,
   "id": "326558e6",
   "metadata": {},
   "outputs": [
    {
     "data": {
      "text/plain": [
       "1"
      ]
     },
     "execution_count": 16,
     "metadata": {},
     "output_type": "execute_result"
    }
   ],
   "source": [
    "lst = [1, 3, 5,1,1000, 2]\n",
    "min(lst)"
   ]
  },
  {
   "cell_type": "markdown",
   "id": "bae08aa1",
   "metadata": {},
   "source": [
    "### 5. Write a Python program to get the largest number from a list."
   ]
  },
  {
   "cell_type": "code",
   "execution_count": 17,
   "id": "c77b06ea",
   "metadata": {},
   "outputs": [
    {
     "data": {
      "text/plain": [
       "1000"
      ]
     },
     "execution_count": 17,
     "metadata": {},
     "output_type": "execute_result"
    }
   ],
   "source": [
    "lst = [1, 3, 5,1,1000, 2]\n",
    "max(lst)"
   ]
  },
  {
   "cell_type": "markdown",
   "id": "382b1de6",
   "metadata": {},
   "source": [
    "### 6. Write a Python program to count the number of strings from a given list of strings. "
   ]
  },
  {
   "cell_type": "code",
   "execution_count": 18,
   "id": "38b120c0",
   "metadata": {},
   "outputs": [
    {
     "data": {
      "text/plain": [
       "3"
      ]
     },
     "execution_count": 18,
     "metadata": {},
     "output_type": "execute_result"
    }
   ],
   "source": [
    "lst = ['str1', 'str2','str3']\n",
    "len(lst)"
   ]
  },
  {
   "cell_type": "markdown",
   "id": "1b48de28",
   "metadata": {},
   "source": [
    "### 7. Write a Python program to clone or copy a list "
   ]
  },
  {
   "cell_type": "code",
   "execution_count": 21,
   "id": "77cc3d24",
   "metadata": {},
   "outputs": [
    {
     "name": "stdout",
     "output_type": "stream",
     "text": [
      "[1, 3, 5, 1, 1000, 2]\n"
     ]
    }
   ],
   "source": [
    "lst1 = [1, 3, 5,1,1000, 2]\n",
    "lst2 = lst1.copy()\n",
    "print(lst2)"
   ]
  },
  {
   "cell_type": "markdown",
   "id": "8c896869",
   "metadata": {},
   "source": [
    "### 8. Write a Python program to remove item(s) from a given set. "
   ]
  },
  {
   "cell_type": "code",
   "execution_count": 31,
   "id": "2c5c5371",
   "metadata": {},
   "outputs": [
    {
     "data": {
      "text/plain": [
       "{3, 4, 6}"
      ]
     },
     "execution_count": 31,
     "metadata": {},
     "output_type": "execute_result"
    }
   ],
   "source": [
    "set1 = {1,3,4,6}\n",
    "set1.discard(1)\n",
    "set1"
   ]
  },
  {
   "cell_type": "markdown",
   "id": "371f0e27",
   "metadata": {},
   "source": [
    "### 9. Write a Python program to check if a set is a subset of another set. "
   ]
  },
  {
   "cell_type": "code",
   "execution_count": 40,
   "id": "b4c5a349",
   "metadata": {},
   "outputs": [
    {
     "data": {
      "text/plain": [
       "True"
      ]
     },
     "execution_count": 40,
     "metadata": {},
     "output_type": "execute_result"
    }
   ],
   "source": [
    "set1 = {1,2}\n",
    "set2 = {1,8,4,3,2,6}\n",
    "set1.issubset(set2)"
   ]
  },
  {
   "cell_type": "markdown",
   "id": "2fcdd8d6",
   "metadata": {},
   "source": [
    "### 10. Write a Python program to remove all elements from a given set. "
   ]
  },
  {
   "cell_type": "code",
   "execution_count": 54,
   "id": "400033a6",
   "metadata": {},
   "outputs": [
    {
     "name": "stdout",
     "output_type": "stream",
     "text": [
      "set()\n"
     ]
    }
   ],
   "source": [
    "set1 = {1,8,4,3,2,6}\n",
    "lst = list(set1)\n",
    "for i in lst:\n",
    "    set1.discard(i)\n",
    "print(set1)"
   ]
  },
  {
   "cell_type": "markdown",
   "id": "d8b797ba",
   "metadata": {},
   "source": [
    "### 11. Write a Python program to find the maximum and minimum values in a set."
   ]
  },
  {
   "cell_type": "code",
   "execution_count": 56,
   "id": "cc802e5a",
   "metadata": {},
   "outputs": [
    {
     "name": "stdout",
     "output_type": "stream",
     "text": [
      "Maximum number:  8\n",
      "Minimum number:  1\n"
     ]
    }
   ],
   "source": [
    "set1 = {1,8,4,3,2,6}\n",
    "print('Maximum number: ', max(set1))\n",
    "print('Minimum number: ', min(set1))"
   ]
  },
  {
   "cell_type": "markdown",
   "id": "44a618e0",
   "metadata": {},
   "source": [
    "### 12. Write a Python program to find the index of an item in a tuple. "
   ]
  },
  {
   "cell_type": "code",
   "execution_count": 62,
   "id": "abc28ec6",
   "metadata": {},
   "outputs": [
    {
     "data": {
      "text/plain": [
       "5"
      ]
     },
     "execution_count": 62,
     "metadata": {},
     "output_type": "execute_result"
    }
   ],
   "source": [
    "tuple1 = (1,2,3,6,8,9)\n",
    "tuple1.index(9)"
   ]
  },
  {
   "cell_type": "markdown",
   "id": "c89249eb",
   "metadata": {},
   "source": [
    "### 13. Write a Python program to convert a tuple to a dictionary. "
   ]
  },
  {
   "cell_type": "code",
   "execution_count": 65,
   "id": "6cd8973c",
   "metadata": {},
   "outputs": [
    {
     "name": "stdout",
     "output_type": "stream",
     "text": [
      "{'Key1': 'Value1', 'Key2': 'Value2', 'Key3': 'Value3'}\n"
     ]
    }
   ],
   "source": [
    "tuple1 =(('Key1','Value1'),('Key2','Value2'),('Key3','Value3'))\n",
    "print(dict(tuple1))"
   ]
  },
  {
   "cell_type": "markdown",
   "id": "dd090f2d",
   "metadata": {},
   "source": [
    "### 14. Write a Python program to unzip a list of tuples into individual lists. "
   ]
  },
  {
   "cell_type": "code",
   "execution_count": 67,
   "id": "90de95d7",
   "metadata": {},
   "outputs": [
    {
     "name": "stdout",
     "output_type": "stream",
     "text": [
      "[1, 2]\n",
      "[3, 4]\n",
      "[5, 6]\n"
     ]
    }
   ],
   "source": [
    "lst = [(1,2), (3,4), (5,6)]\n",
    "\n",
    "for i in lst:\n",
    "    print(list(i))"
   ]
  },
  {
   "cell_type": "markdown",
   "id": "cd3bbef9",
   "metadata": {},
   "source": [
    "### 15. Write a Python program to reverse a tuple."
   ]
  },
  {
   "cell_type": "code",
   "execution_count": 74,
   "id": "ef84ea6a",
   "metadata": {},
   "outputs": [
    {
     "name": "stdout",
     "output_type": "stream",
     "text": [
      "(9, 8, 6, 3, 2, 1)\n"
     ]
    }
   ],
   "source": [
    "tuple1 = (1,2,3,6,8,9)\n",
    "lst = list(tuple1)\n",
    "lst.reverse()\n",
    "print(tuple(lst))"
   ]
  },
  {
   "cell_type": "markdown",
   "id": "6da257fb",
   "metadata": {},
   "source": [
    "### 16. Write a Python program to convert a list of tuples into a dictionary."
   ]
  },
  {
   "cell_type": "code",
   "execution_count": 75,
   "id": "6bc28418",
   "metadata": {},
   "outputs": [
    {
     "data": {
      "text/plain": [
       "{'Key1': 'Value1', 'Key2': 'Value2', 'Key3': 'Value3'}"
      ]
     },
     "execution_count": 75,
     "metadata": {},
     "output_type": "execute_result"
    }
   ],
   "source": [
    "lst =[('Key1','Value1'),('Key2','Value2'),('Key3','Value3')]\n",
    "dict(lst)"
   ]
  },
  {
   "cell_type": "markdown",
   "id": "36127e8b",
   "metadata": {},
   "source": [
    "### 17. Write a Python program to replace the last value of tuples in a list.\n",
    "###### Sample list: [(10, 20, 40), (40, 50, 60), (70, 80, 90)] \n",
    "###### Expected Output: [(10, 20, 100), (40, 50, 100), (70, 80, 100)] "
   ]
  },
  {
   "cell_type": "code",
   "execution_count": 77,
   "id": "5bc0a18a",
   "metadata": {},
   "outputs": [
    {
     "name": "stdout",
     "output_type": "stream",
     "text": [
      "[(10, 20, 100), (40, 50, 100), (70, 80, 100)]\n"
     ]
    }
   ],
   "source": [
    "inpt_list = [(10, 20, 40), (40, 50, 60), (70, 80, 90)]\n",
    "\n",
    "output_list = [(x,y,100) for (x,y,z) in inpt_list]\n",
    "print(output_list)"
   ]
  },
  {
   "cell_type": "markdown",
   "id": "da04c17c",
   "metadata": {},
   "source": [
    "### 18.  Write a Python program to sort a tuple by its float element."
   ]
  },
  {
   "cell_type": "code",
   "execution_count": 80,
   "id": "686faf88",
   "metadata": {},
   "outputs": [
    {
     "name": "stdout",
     "output_type": "stream",
     "text": [
      "[('item3', '24.5'), ('item2', '15.10'), ('item1', '12.20')]\n"
     ]
    }
   ],
   "source": [
    "price = [('item1', '12.20'), ('item2', '15.10'), ('item3', '24.5')]\n",
    "\n",
    "sorted_price = sorted(price, key=lambda x: float(x[1]), reverse=True)\n",
    "\n",
    "print(sorted_price)"
   ]
  }
 ],
 "metadata": {
  "kernelspec": {
   "display_name": "Python 3",
   "language": "python",
   "name": "python3"
  },
  "language_info": {
   "codemirror_mode": {
    "name": "ipython",
    "version": 3
   },
   "file_extension": ".py",
   "mimetype": "text/x-python",
   "name": "python",
   "nbconvert_exporter": "python",
   "pygments_lexer": "ipython3",
   "version": "3.8.8"
  }
 },
 "nbformat": 4,
 "nbformat_minor": 5
}
