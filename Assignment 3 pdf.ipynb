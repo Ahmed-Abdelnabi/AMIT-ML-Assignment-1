{
 "cells": [
  {
   "cell_type": "markdown",
   "id": "575e8256",
   "metadata": {},
   "source": [
    "### 1.Implement Fibonacci series using recursion"
   ]
  },
  {
   "cell_type": "code",
   "execution_count": 4,
   "id": "01185145",
   "metadata": {},
   "outputs": [
    {
     "name": "stdout",
     "output_type": "stream",
     "text": [
      "[0, 1, 1, 2, 3, 5, 8, 13, 21, 34, 55, 89, 144, 233, 377, 610, 987, 1597, 2584, 4181, 6765]\n"
     ]
    }
   ],
   "source": [
    "fib_lst = [0,1]\n",
    "\n",
    "for i in range(1,20):\n",
    "    fib_lst.append(fib_lst[i-1] + fib_lst[i])\n",
    "\n",
    "print(fib_lst)"
   ]
  },
  {
   "cell_type": "markdown",
   "id": "ef3b3b92",
   "metadata": {},
   "source": [
    "### 2.Write a python program to find all the unique words and count the frequency of occurance from a given list of strings\n"
   ]
  },
  {
   "cell_type": "code",
   "execution_count": 1,
   "id": "76ed463f",
   "metadata": {},
   "outputs": [
    {
     "name": "stdout",
     "output_type": "stream",
     "text": [
      "['red', 'orange', 'black', 'yellow', 'blue']\n",
      "{'red': 3, 'orange': 1, 'black': 1, 'yellow': 1, 'blue': 2}\n"
     ]
    }
   ],
   "source": [
    "lst = ['orange', 'red', 'yellow', 'red', 'blue', 'red', 'blue', 'black']\n",
    "\n",
    "#get a list of the unique words\n",
    "unique_lst = list(set(lst))\n",
    "print(unique_lst)\n",
    "\n",
    "#get a list of the number of occurances of each string in the list\n",
    "count_dict = {}\n",
    "for i in unique_lst:\n",
    "    count = lst.count(i)\n",
    "    count_dict[i] = count\n",
    "print(count_dict)"
   ]
  },
  {
   "cell_type": "markdown",
   "id": "577c1470",
   "metadata": {},
   "source": [
    "### 3.Write a python program that finds all pairs of elements in a list whose sum is equal to a given value."
   ]
  },
  {
   "cell_type": "code",
   "execution_count": 32,
   "id": "2ce26b7d",
   "metadata": {},
   "outputs": [
    {
     "name": "stdout",
     "output_type": "stream",
     "text": [
      "Enter the required sum: (Integer between 1 and 10):  8\n",
      "[(0, 8), (1, 7), (2, 6), (3, 5), (4, 4)]\n"
     ]
    }
   ],
   "source": [
    "num_lst = list(range(11))\n",
    "given_sum = int(input(\"Enter the required sum: (Integer between 1 and 10):  \"))\n",
    "lst_of_pairs = []\n",
    "for i in num_lst:\n",
    "    for j in num_lst:\n",
    "        if i + j == given_sum:\n",
    "            lst_of_pairs.append((i,j))\n",
    "            \n",
    "            # To get unique pairs only\n",
    "            num_lst.remove(j)\n",
    "            \n",
    "            \n",
    "print(lst_of_pairs)"
   ]
  },
  {
   "cell_type": "markdown",
   "id": "d98bfd5b",
   "metadata": {},
   "source": [
    "### 4.Write a python program to find the two numbers whose product is maximum among all the pairs in a given list of numbers."
   ]
  },
  {
   "cell_type": "code",
   "execution_count": 42,
   "id": "8531a616",
   "metadata": {},
   "outputs": [
    {
     "name": "stdout",
     "output_type": "stream",
     "text": [
      "The pair is: (10, 10), The maximum product is: 100\n"
     ]
    }
   ],
   "source": [
    "num_lst = list(range(11))\n",
    "max_product = 0\n",
    "for i in num_lst:\n",
    "    for j in num_lst:\n",
    "        if i * j > max_product:\n",
    "            max_product = i * j\n",
    "            pair = (i,j)\n",
    "            \n",
    "\n",
    "print(f\"The pair is: {pair}, The maximum product is: {max_product}\")"
   ]
  },
  {
   "cell_type": "markdown",
   "id": "83025cea",
   "metadata": {},
   "source": [
    "### 5.Write a python function that takes a number as a parameter and checks whether the number is a prime or not."
   ]
  },
  {
   "cell_type": "code",
   "execution_count": 63,
   "id": "6296e62c",
   "metadata": {
    "scrolled": false
   },
   "outputs": [
    {
     "name": "stdout",
     "output_type": "stream",
     "text": [
      "Enter an integer number to check if it is a prime number: 7\n",
      "---------------------------------------------------------------------\n",
      "'7' is a Prime number\n",
      "---------------------------------------------------------------------\n",
      "Try Again? y/n:  y\n",
      "----------------------------*****------------------------------------\n",
      "Enter an integer number to check if it is a prime number: 23\n",
      "---------------------------------------------------------------------\n",
      "'23' is a Prime number\n",
      "---------------------------------------------------------------------\n",
      "Try Again? y/n:  y\n",
      "----------------------------*****------------------------------------\n",
      "Enter an integer number to check if it is a prime number: 50\n",
      "'50' is not a Prime number\n",
      "Try Again? y/n:  y\n",
      "----------------------------*****------------------------------------\n",
      "Enter an integer number to check if it is a prime number: ddfd\n",
      "Please enter an Integer Number!\n",
      "Try Again? y/n:  y\n",
      "----------------------------*****------------------------------------\n",
      "Enter an integer number to check if it is a prime number: 56.3\n",
      "Please enter an Integer Number!\n",
      "Try Again? y/n:  y\n",
      "----------------------------*****------------------------------------\n",
      "Enter an integer number to check if it is a prime number: 17\n",
      "---------------------------------------------------------------------\n",
      "'17' is a Prime number\n",
      "---------------------------------------------------------------------\n",
      "Try Again? y/n:  n\n",
      "----------------------------*****------------------------------------\n",
      "The Program has ended\n"
     ]
    }
   ],
   "source": [
    "def check_prime(x):\n",
    "    if x % 2 != 0 and x % 3 != 0 and x % 5 != 0:\n",
    "        print(\"---------------------------------------------------------------------\")\n",
    "        print(f\"'{x}' is a Prime number\")\n",
    "        print(\"---------------------------------------------------------------------\")\n",
    "    else:\n",
    "        print(f\"'{x}' is not a Prime number\")\n",
    "\n",
    "condition = 'y'    \n",
    "while condition != 'n':       \n",
    "    inpt_value = input(\"Enter an integer number to check if it is a prime number: \")\n",
    "\n",
    "    try:  \n",
    "        check_prime(int(inpt_value))\n",
    "    except ValueError:\n",
    "        print(\"Please enter an Integer Number!\")\n",
    "        continue\n",
    "    finally:\n",
    "        condition = input(\"Try Again? y/n:  \")\n",
    "        print(\"----------------------------*****------------------------------------\")\n",
    "print('The Program has ended')"
   ]
  },
  {
   "cell_type": "markdown",
   "id": "b465ffd3",
   "metadata": {},
   "source": [
    "### 6.Write a python function to print the even numbers from a given list."
   ]
  },
  {
   "cell_type": "code",
   "execution_count": 66,
   "id": "58a140bd",
   "metadata": {},
   "outputs": [
    {
     "name": "stdout",
     "output_type": "stream",
     "text": [
      "[0, 2, 4, 6, 8, 10]\n"
     ]
    }
   ],
   "source": [
    "def print_even(lst):\n",
    "    even_lst = []\n",
    "    for i in lst:\n",
    "        if i % 2 == 0:\n",
    "            even_lst.append(i)\n",
    "    print(even_lst)\n",
    "\n",
    "\n",
    "num_lst = list(range(11))\n",
    "print_even(num_lst)"
   ]
  },
  {
   "cell_type": "markdown",
   "id": "64f2181b",
   "metadata": {},
   "source": [
    "### 7.Write a function that will take a given string and reverse the order of words.\n",
    "\n",
    "#### Ex: \"Hello World\"  ---> \"World Hello\""
   ]
  },
  {
   "cell_type": "code",
   "execution_count": 89,
   "id": "ddf5872b",
   "metadata": {},
   "outputs": [
    {
     "name": "stdout",
     "output_type": "stream",
     "text": [
      "World Hello\n"
     ]
    }
   ],
   "source": [
    "def rev_words(txt):\n",
    "    lst_of_words = txt.split()\n",
    "    lst_of_words.reverse()\n",
    "    return ' '.join(lst_of_words)\n",
    "    \n",
    "\n",
    "txt = \"Hello World\"\n",
    "print(rev_words(txt))"
   ]
  },
  {
   "cell_type": "markdown",
   "id": "993eef65",
   "metadata": {},
   "source": [
    "### 8.Given an integer x, return True if x is a palindrome, and False otherwise.\n",
    "\n",
    "#### Ex 1: input x = 121  ----> output: True  (As 121 reads as 121 from left to right or from right to left)"
   ]
  },
  {
   "cell_type": "code",
   "execution_count": 101,
   "id": "1cc7ca6f",
   "metadata": {},
   "outputs": [
    {
     "name": "stdout",
     "output_type": "stream",
     "text": [
      "True\n",
      "False\n"
     ]
    }
   ],
   "source": [
    "def check_palindrome(x):\n",
    "    str_x = str(x)\n",
    "    rev_x = str_x[::-1]\n",
    "    print(str_x == rev_x)\n",
    "\n",
    "check_palindrome(121)\n",
    "check_palindrome(158)"
   ]
  },
  {
   "cell_type": "markdown",
   "id": "eafde910",
   "metadata": {},
   "source": [
    "### 9. Write a python function that checks whether a passed string is a palindrome or not."
   ]
  },
  {
   "cell_type": "code",
   "execution_count": 103,
   "id": "c09dfcd6",
   "metadata": {},
   "outputs": [
    {
     "name": "stdout",
     "output_type": "stream",
     "text": [
      "True\n",
      "False\n"
     ]
    }
   ],
   "source": [
    "def check_palindrome(txt):\n",
    "    rev_txt = txt[::-1]\n",
    "    print(txt == rev_txt)\n",
    "\n",
    "check_palindrome('madam')\n",
    "check_palindrome('test word')"
   ]
  },
  {
   "cell_type": "markdown",
   "id": "7f607686",
   "metadata": {},
   "source": [
    "### 10.Write a python function to create and print a list where the values are the squares of numbers between 1 and 30 (both included)."
   ]
  },
  {
   "cell_type": "code",
   "execution_count": 107,
   "id": "ea81a360",
   "metadata": {},
   "outputs": [
    {
     "name": "stdout",
     "output_type": "stream",
     "text": [
      "[1, 4, 9, 16, 25, 36, 49, 64, 81, 100, 121, 144, 169, 196, 225, 256, 289, 324, 361, 400, 441, 484, 529, 576, 625, 676, 729, 784, 841, 900]\n"
     ]
    }
   ],
   "source": [
    "def squares_lst(lst):\n",
    "    lst_of_squares = [i**2 for i in lst]\n",
    "    print(lst_of_squares)\n",
    "    \n",
    "\n",
    "lst = list(range(1,31))\n",
    "squares_lst(lst)\n"
   ]
  }
 ],
 "metadata": {
  "kernelspec": {
   "display_name": "Python 3",
   "language": "python",
   "name": "python3"
  },
  "language_info": {
   "codemirror_mode": {
    "name": "ipython",
    "version": 3
   },
   "file_extension": ".py",
   "mimetype": "text/x-python",
   "name": "python",
   "nbconvert_exporter": "python",
   "pygments_lexer": "ipython3",
   "version": "3.8.8"
  }
 },
 "nbformat": 4,
 "nbformat_minor": 5
}
