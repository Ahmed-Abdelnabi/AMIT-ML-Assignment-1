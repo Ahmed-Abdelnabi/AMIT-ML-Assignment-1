{
 "cells": [
  {
   "cell_type": "markdown",
   "metadata": {
    "id": "9NXyYtIAQuIG"
   },
   "source": [
    "# Python program to interchange first and last elements in a list\n"
   ]
  },
  {
   "cell_type": "markdown",
   "metadata": {
    "id": "Y8j1uUT8Q6Xf"
   },
   "source": [
    "- Examples\n",
    "\n",
    "- Input : [12, 35, 9, 56, 24]\n",
    "- Output : [24, 35, 9, 56, 12]\n",
    "\n",
    "- Input : [1, 2, 3]\n",
    "- Output : [3, 2, 1]"
   ]
  },
  {
   "cell_type": "code",
   "execution_count": 5,
   "metadata": {},
   "outputs": [
    {
     "name": "stdout",
     "output_type": "stream",
     "text": [
      "The input list is:  [12, 35, 9, 56, 24]\n",
      "The output list is:  [24, 35, 9, 56, 12]\n"
     ]
    }
   ],
   "source": [
    "inpt_list = [12,35,9,56,24]\n",
    "print(\"The input list is: \",inpt_list)\n",
    "outpt_list = inpt_list.copy()\n",
    "outpt_list[0] = inpt_list[-1]\n",
    "outpt_list[-1] = inpt_list[0]\n",
    "print(\"The output list is: \",outpt_list)"
   ]
  },
  {
   "cell_type": "code",
   "execution_count": 7,
   "metadata": {},
   "outputs": [
    {
     "name": "stdout",
     "output_type": "stream",
     "text": [
      "The input list is:  [1, 2, 3]\n",
      "The output list is:  [3, 2, 1]\n"
     ]
    }
   ],
   "source": [
    "inpt_list = [1,2,3]\n",
    "print(\"The input list is: \",inpt_list)\n",
    "outpt_list = inpt_list.copy()\n",
    "outpt_list[0] = inpt_list[-1]\n",
    "outpt_list[-1] = inpt_list[0]\n",
    "print(\"The output list is: \",outpt_list)"
   ]
  },
  {
   "cell_type": "markdown",
   "metadata": {
    "id": "h-yd-gv7RnYW"
   },
   "source": [
    "### Find the Length of a List in Python\n",
    "\n"
   ]
  },
  {
   "cell_type": "markdown",
   "metadata": {
    "id": "AapkQMkGRqqg"
   },
   "source": [
    "- Input: lst = [10,20,30,40]\n",
    "- Output: 4\n",
    "- Explanation: The output is 4 because thelength of the list is  4."
   ]
  },
  {
   "cell_type": "code",
   "execution_count": 12,
   "metadata": {},
   "outputs": [
    {
     "name": "stdout",
     "output_type": "stream",
     "text": [
      "4\n"
     ]
    }
   ],
   "source": [
    "lst = [10,20,30,40]\n",
    "print(len(lst))"
   ]
  },
  {
   "cell_type": "markdown",
   "metadata": {
    "id": "Y-XZTe1ES7pJ"
   },
   "source": [
    "### Python | Find elements of a list by indices\n",
    "- Input : lst1 = [10, 20, 30, 40, 50]\n",
    "-        lst2 = [0, 2, 4]\n",
    "- Output : [10, 30, 50]"
   ]
  },
  {
   "cell_type": "code",
   "execution_count": 19,
   "metadata": {},
   "outputs": [
    {
     "name": "stdout",
     "output_type": "stream",
     "text": [
      "[10, 30, 50]\n"
     ]
    }
   ],
   "source": [
    "lst1=[10,20,30,40,50]\n",
    "lst2=[0,2,4]\n",
    "print(list(map(lst1.__getitem__, lst2)))"
   ]
  },
  {
   "cell_type": "markdown",
   "metadata": {
    "id": "3fmiplSXTmN-"
   },
   "source": [
    "# Python program to find the String in a List\n"
   ]
  },
  {
   "cell_type": "markdown",
   "metadata": {
    "id": "0HdTN1z3TpYH"
   },
   "source": [
    "- Input: l=[1, 1.0, 'have', 'a', 'geeky', 'day']; s='geeky'\n",
    "- Output: True\n",
    "- Explanation: geeky is present in the input list"
   ]
  },
  {
   "cell_type": "code",
   "execution_count": 22,
   "metadata": {},
   "outputs": [
    {
     "data": {
      "text/plain": [
       "True"
      ]
     },
     "execution_count": 22,
     "metadata": {},
     "output_type": "execute_result"
    }
   ],
   "source": [
    "l1=[1, 1.0, 'have', 'a', 'geeky', 'day']\n",
    "print('geeky' in l1)"
   ]
  },
  {
   "cell_type": "markdown",
   "metadata": {
    "id": "PID_7zUJT-HU"
   },
   "source": [
    "\n",
    "\n",
    "```\n",
    "#  hint you can use in\n",
    "```\n",
    "\n",
    "- The in keyword is used to check if a value is present in a sequence (list, range, string etc.).\n",
    "\n"
   ]
  },
  {
   "cell_type": "code",
   "execution_count": 23,
   "metadata": {
    "id": "folb7eDqUXwk"
   },
   "outputs": [
    {
     "name": "stdout",
     "output_type": "stream",
     "text": [
      "True\n"
     ]
    }
   ],
   "source": [
    "fruits = [\"apple\", \"banana\", \"cherry\"]\n",
    "print(\"banana\" in fruits)"
   ]
  },
  {
   "cell_type": "markdown",
   "metadata": {
    "id": "WI5-sy7eU9Gm"
   },
   "source": [
    "## Ways to find indices of value in list\n",
    "\n",
    "\n",
    "- list of animals\n",
    "- Animals= [\"cat\", \"dog\", \"tiger\"]\n",
    "- searching positiion of dog\n",
    "- output is 1"
   ]
  },
  {
   "cell_type": "code",
   "execution_count": 24,
   "metadata": {},
   "outputs": [
    {
     "data": {
      "text/plain": [
       "1"
      ]
     },
     "execution_count": 24,
     "metadata": {},
     "output_type": "execute_result"
    }
   ],
   "source": [
    "animals= [\"cat\", \"dog\", \"tiger\"]\n",
    "animals.index('dog')"
   ]
  },
  {
   "cell_type": "markdown",
   "metadata": {
    "id": "-WY6GZpgVjs-"
   },
   "source": [
    "### Find most frequent element in a list\n",
    "- Input : [2, 1, 2, 2, 1, 3]\n",
    "- Output : 2\n",
    "\n",
    "- Input : ['Dog', 'Cat', 'Dog']\n",
    "- Output : Dog"
   ]
  },
  {
   "cell_type": "code",
   "execution_count": 28,
   "metadata": {},
   "outputs": [
    {
     "name": "stdout",
     "output_type": "stream",
     "text": [
      "2\n",
      "Dog\n"
     ]
    }
   ],
   "source": [
    "lst1= [2, 1, 2, 2, 1, 3]\n",
    "lst2= ['Dog', 'Cat', 'Dog']\n",
    "\n",
    "print(max(lst1,key=lst1.count))\n",
    "print(max(lst2,key=lst2.count))"
   ]
  },
  {
   "cell_type": "markdown",
   "metadata": {
    "id": "iplk5uDKfiye"
   },
   "source": [
    "- hint you can use max in python"
   ]
  },
  {
   "cell_type": "markdown",
   "metadata": {
    "id": "-vF6f8UQZIgq"
   },
   "source": [
    "## Remove an Item from the List in Python.\n",
    "- Input: ['Rose',' Lily', 'Lotus', 'Sun', 'Sunflower']\n",
    "- Delete: 'Sun'\n",
    "- Output: ['Rose',' Lily', 'Lotus', 'Sunflower']\n",
    "- Explanation: In this, we have removed the 'Sun' element from the given list"
   ]
  },
  {
   "cell_type": "code",
   "execution_count": 33,
   "metadata": {},
   "outputs": [
    {
     "name": "stdout",
     "output_type": "stream",
     "text": [
      "Deleted item:  Sun\n",
      "New list:  ['Rose', ' Lily', 'Lotus', 'Sunflower']\n"
     ]
    }
   ],
   "source": [
    "lst = ['Rose',' Lily', 'Lotus', 'Sun', 'Sunflower']\n",
    "print('Deleted item: ',lst.pop(lst.index('Sun')))\n",
    "print('New list: ',lst)"
   ]
  },
  {
   "cell_type": "markdown",
   "metadata": {
    "id": "l_YTnBftZe7V"
   },
   "source": [
    "# Remove multiple elements from a list in Python\n",
    "- Input: [12, 15, 3, 10]\n",
    "- Output: Remove = [12, 3], New_List = [15, 10]\n",
    "\n",
    "- Input: [11, 5, 17, 18, 23, 50]\n",
    "- Output: Remove = [1:5], New_list = [11, 50]"
   ]
  },
  {
   "cell_type": "code",
   "execution_count": 50,
   "metadata": {},
   "outputs": [
    {
     "name": "stdout",
     "output_type": "stream",
     "text": [
      "[15, 10]\n"
     ]
    }
   ],
   "source": [
    "lst1 = [12, 15, 3, 10]\n",
    "for i in [12,3]:\n",
    "    lst1.pop(lst1.index(i))\n",
    "\n",
    "print(lst1)"
   ]
  },
  {
   "cell_type": "code",
   "execution_count": 51,
   "metadata": {},
   "outputs": [
    {
     "name": "stdout",
     "output_type": "stream",
     "text": [
      "[11, 50]\n"
     ]
    }
   ],
   "source": [
    "lst2 = [11, 5, 17, 18, 23, 50]\n",
    "dummy = lst2.copy()\n",
    "\n",
    "for i in range(1,5):\n",
    "    lst2.pop(lst2.index(dummy[i]))\n",
    "    \n",
    "print(lst2)"
   ]
  },
  {
   "cell_type": "markdown",
   "metadata": {
    "id": "yYoINEUvcG4-"
   },
   "source": [
    "# python program to check whether the string is Palindrome  and get the str from user"
   ]
  },
  {
   "cell_type": "markdown",
   "metadata": {
    "id": "ARhC7ZL6cvjO"
   },
   "source": [
    "- Input : malayalam\n",
    "- Output : True\n",
    "\n",
    "- Input : geeks\n",
    "- Output : False"
   ]
  },
  {
   "cell_type": "code",
   "execution_count": 62,
   "metadata": {},
   "outputs": [
    {
     "name": "stdout",
     "output_type": "stream",
     "text": [
      "['m', 'a', 'l', 'a', 'y', 'a', 'l', 'a', 'm']\n",
      "['m', 'a', 'l', 'a', 'y', 'a', 'l', 'a', 'm']\n"
     ]
    },
    {
     "data": {
      "text/plain": [
       "True"
      ]
     },
     "execution_count": 62,
     "metadata": {},
     "output_type": "execute_result"
    }
   ],
   "source": [
    "txt1 = 'malayalam'\n",
    "txt1 == ''.join(list(reversed(list(txt1))))"
   ]
  },
  {
   "cell_type": "code",
   "execution_count": 63,
   "metadata": {},
   "outputs": [
    {
     "data": {
      "text/plain": [
       "False"
      ]
     },
     "execution_count": 63,
     "metadata": {},
     "output_type": "execute_result"
    }
   ],
   "source": [
    "txt2 = 'geeks'\n",
    "txt2 == ''.join(list(reversed(list(txt1))))"
   ]
  },
  {
   "cell_type": "markdown",
   "metadata": {
    "id": "_EYlmszadOww"
   },
   "source": [
    "### Reverse Words in a Given String in Python\n",
    "- Input : str =\" geeks quiz practice code\"\n",
    "- Output : str = code practice quiz geeks  \n",
    "- Input : str = \"my name is laxmi\"\n",
    "- output : str= laxmi is name my"
   ]
  },
  {
   "cell_type": "code",
   "execution_count": 69,
   "metadata": {},
   "outputs": [
    {
     "data": {
      "text/plain": [
       "'code practice quiz geeks'"
      ]
     },
     "execution_count": 69,
     "metadata": {},
     "output_type": "execute_result"
    }
   ],
   "source": [
    "inpt_txt1 = \"geeks quiz practice code\"\n",
    "' '.join(list(reversed(inpt_txt1.split())))"
   ]
  },
  {
   "cell_type": "code",
   "execution_count": 70,
   "metadata": {},
   "outputs": [
    {
     "data": {
      "text/plain": [
       "'laxmi is name my'"
      ]
     },
     "execution_count": 70,
     "metadata": {},
     "output_type": "execute_result"
    }
   ],
   "source": [
    "inpt_txt2 = \"my name is laxmi\"\n",
    "' '.join(list(reversed(inpt_txt2.split())))"
   ]
  },
  {
   "cell_type": "markdown",
   "metadata": {
    "id": "242TCJPleCof"
   },
   "source": [
    "### Find length of a string in python\n",
    "- Input : 'abc'\n",
    "- Output : 3\n",
    "\n",
    "- Input : 'hello world !'\n",
    "- Output : 13\n",
    "\n",
    "- Input : ' h e l   l  o '\n",
    "- Output :14"
   ]
  },
  {
   "cell_type": "code",
   "execution_count": 71,
   "metadata": {},
   "outputs": [
    {
     "name": "stdout",
     "output_type": "stream",
     "text": [
      "3\n"
     ]
    }
   ],
   "source": [
    "txt = 'abc'\n",
    "print(len(txt))"
   ]
  },
  {
   "cell_type": "code",
   "execution_count": 72,
   "metadata": {},
   "outputs": [
    {
     "name": "stdout",
     "output_type": "stream",
     "text": [
      "13\n"
     ]
    }
   ],
   "source": [
    "txt = 'hello world !'\n",
    "print(len(txt))"
   ]
  },
  {
   "cell_type": "code",
   "execution_count": 76,
   "metadata": {},
   "outputs": [
    {
     "name": "stdout",
     "output_type": "stream",
     "text": [
      "14\n"
     ]
    }
   ],
   "source": [
    "txt = '   h e l l o  '\n",
    "print(len(txt))"
   ]
  },
  {
   "cell_type": "markdown",
   "metadata": {
    "id": "rE_STqG_fFJs"
   },
   "source": [
    "###  Avoid Spaces in string length\n",
    "\n",
    "\n",
    "```\n",
    "- string = \"Hello, world!  \"\n",
    "- with space 15\n",
    "- without space is 12\n",
    "```\n",
    "\n",
    "\n"
   ]
  },
  {
   "cell_type": "code",
   "execution_count": 80,
   "metadata": {},
   "outputs": [
    {
     "name": "stdout",
     "output_type": "stream",
     "text": [
      "With space:  15\n",
      "Without space:  12\n"
     ]
    }
   ],
   "source": [
    "txt = \"Hello, world!  \"\n",
    "print('With space: ', len(txt))\n",
    "print('Without space: ', len(txt.replace(\" \", \"\")))"
   ]
  },
  {
   "cell_type": "markdown",
   "metadata": {
    "id": "zRnIlNqSf3ni"
   },
   "source": [
    "-  hint you can use len in python to get len of str or list"
   ]
  },
  {
   "cell_type": "markdown",
   "metadata": {
    "id": "FebQFluegBW2"
   },
   "source": [
    "# Smallest Length String in the list\n",
    "- test_list = ['gfg', 'is', 'best', 'for', 'geeks']\n",
    "- Minimum length string is : is\n"
   ]
  },
  {
   "cell_type": "code",
   "execution_count": 89,
   "metadata": {},
   "outputs": [
    {
     "name": "stdout",
     "output_type": "stream",
     "text": [
      "Minimum length string is:  is\n"
     ]
    }
   ],
   "source": [
    "test_list = ['gfg', 'is', 'best', 'for', 'geeks']\n",
    "print('Minimum length string is: ', min(test_list,key=len))"
   ]
  },
  {
   "cell_type": "markdown",
   "metadata": {
    "id": "Nn_2JLRJgZ3h"
   },
   "source": [
    "-  hint you can use min in python"
   ]
  }
 ],
 "metadata": {
  "colab": {
   "private_outputs": true,
   "provenance": []
  },
  "kernelspec": {
   "display_name": "Python 3",
   "language": "python",
   "name": "python3"
  },
  "language_info": {
   "codemirror_mode": {
    "name": "ipython",
    "version": 3
   },
   "file_extension": ".py",
   "mimetype": "text/x-python",
   "name": "python",
   "nbconvert_exporter": "python",
   "pygments_lexer": "ipython3",
   "version": "3.8.8"
  }
 },
 "nbformat": 4,
 "nbformat_minor": 1
}
